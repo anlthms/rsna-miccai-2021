{
 "cells": [
  {
   "cell_type": "markdown",
   "metadata": {},
   "source": [
    "*this should be run on the kaggle platform to generate submission files*"
   ]
  },
  {
   "cell_type": "code",
   "execution_count": null,
   "metadata": {},
   "outputs": [],
   "source": [
    "# this is to install efficientnet-pytorch-3d without using an internet connection\n",
    "# the dataset https://www.kaggle.com/anlthms/wheels must be added as input\n",
    "!pip install ../input/wheels/efficientnet-pytorch-3d-0.6.3.zip\n"
   ]
  },
  {
   "cell_type": "code",
   "execution_count": null,
   "metadata": {},
   "outputs": [],
   "source": [
    "import sys\n",
    "\n",
    "# for this to work, the notebook https://www.kaggle.com/<kaggle_userid>/miccai\n",
    "# must be added as input\n",
    "sys.path.append('../input/miccai')\n",
    "from predict import test\n",
    "\n",
    "# run inference and generate submission.csv\n",
    "test()"
   ]
  }
 ],
 "metadata": {
  "kernelspec": {
   "display_name": "Python 3",
   "language": "python",
   "name": "python3"
  },
  "language_info": {
   "codemirror_mode": {
    "name": "ipython",
    "version": 3
   },
   "file_extension": ".py",
   "mimetype": "text/x-python",
   "name": "python",
   "nbconvert_exporter": "python",
   "pygments_lexer": "ipython3",
   "version": "3.8.0"
  }
 },
 "nbformat": 4,
 "nbformat_minor": 4
}
